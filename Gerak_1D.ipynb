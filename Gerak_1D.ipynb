{
 "cells": [
  {
   "cell_type": "markdown",
   "metadata": {},
   "source": [
    "# SOAL GERAK"
   ]
  },
  {
   "cell_type": "markdown",
   "metadata": {},
   "source": [
    "## Bagian A"
   ]
  },
  {
   "cell_type": "markdown",
   "metadata": {},
   "source": [
    "1. Sebuah mobil bergerak ke arah timur sejauh 80 km,\n",
    "kemudian berbalik arah sejauh 20 km ke arah barat.\n",
    "Jarak yang ditempuh mobil adalah ....\n",
    "    - 20 km\n",
    "    - 60 km\n",
    "    - 80 km\n",
    "    - 100 km\n",
    "    - 120 km"
   ]
  },
  {
   "cell_type": "markdown",
   "metadata": {},
   "source": [
    "2. Sebuah pesawat bergerak ke arah timur sejauh\n",
    "80 km, kemudian berbalik arah sejauh 20 km ke\n",
    "arah barat. Perpindahan yang ditempuh pesawat\n",
    "adalah ....\n",
    "    - 20 km\n",
    "    - 60 km\n",
    "    - 80 km\n",
    "    - 100 km\n",
    "    - 120 km"
   ]
  },
  {
   "cell_type": "markdown",
   "metadata": {},
   "source": [
    "3. Seseorang berjalan sejauh 60 m ke timur dalam\n",
    "waktu 60 s, kemudian 20 m ke barat dalam waktu\n",
    "40 s. Laju rata-rata dan kecepatan rata-rata orang\n",
    "tersebut adalah ....\n",
    "    - 0,2 m/s dan 0,8 m/s ke timur\n",
    "    - 0,8 m/s dan 0,2 m/s ke barat\n",
    "    - 0,3 m s dan 0,4 m/s ke timur\n",
    "    - 0,8 m/s dan 0,4 m/s ke timur\n",
    "    - 0,4 m/s dan 0,8 m/s ke barat"
   ]
  },
  {
   "cell_type": "markdown",
   "metadata": {},
   "source": [
    "4. Sebuah mobil bergerak dengan persamaan sebagai\n",
    "berikut, s = 2t<sup>3</sup> + 5t<sup>2</sup> + 5, s dalam meter, t dalam sekon.\n",
    "Kecepatan rata-rata dalam selang waktu antara 2 s\n",
    "dan 3 s adalah ....\n",
    "    - 12 m/s\n",
    "    - 27 m/s\n",
    "    - 31 m/s\n",
    "    - 54 m/s\n",
    "    - 63 m/s"
   ]
  },
  {
   "cell_type": "markdown",
   "metadata": {},
   "source": [
    "5. Mobil bergerak dengan kecepatan awal 5 m/s. Setelah\n",
    "5 sekon, kecepatannya berubah menjadi 20 m/s maka\n",
    "percepatan benda adalah ....\n",
    "    - 1 m/s<sup>2\n",
    "    - 2 m/s<sup>2\n",
    "    - 3 m/s<sup>2\n",
    "    - 4 m/s<sup>2\n",
    "    - 5 m/s<sup>2"
   ]
  },
  {
   "cell_type": "markdown",
   "metadata": {},
   "source": [
    "6. Mobil bergerak diperlambat dengan kecepatan ber-\n",
    "ubah dari 25 m/s menjadi 5 m/s selama 4 sekon\n",
    "maka perlambatannya adalah ....\n",
    "    - 2 m/s<sup>2\n",
    "    - –7,5 m/s<sup>2\n",
    "    - 5 m/s<sup>2\n",
    "    - –5 m/s<sup>2\n",
    "    - 7,5 m/s<sup>2"
   ]
  },
  {
   "cell_type": "markdown",
   "metadata": {},
   "source": [
    "7. Sebuah benda bergerak lurus beraturan dalam waktu\n",
    "10 sekon dan menempuh jarak 80 meter, kecepatan\n",
    "benda tersebut adalah ....\n",
    "    - 4 m/s\n",
    "    - 6 m/s\n",
    "    - 8 m/s\n",
    "    - 10 m/s\n",
    "    - 12 m/s"
   ]
  },
  {
   "cell_type": "markdown",
   "metadata": {},
   "source": [
    "8. Grafik suatu benda bergerak lurus beraturan tampak\n",
    "seperti gambar berikut ini.\\\n",
    " <img src=\"resource/gerak/8a.png\" alt=\"drawing\" width=\"250\"/> \\\n",
    "Jarak yang di tempuh selama selama 4 sekon adalah ....\n",
    "    - 20 m\n",
    "    - 40 m\n",
    "    - 60 m\n",
    "    - 80 m\n",
    "    - 100 m"
   ]
  },
  {
   "cell_type": "markdown",
   "metadata": {},
   "source": [
    "9. Perhatikan grafik berikut ini. \\\n",
    "<img src=\"resource/gerak/9a.png\" alt=\"drawing\" width=\"250\"/>\\\n",
    "Besar kecepatan benda adalah ....\n",
    "    - 5 m/s\n",
    "    - 12 m/s\n",
    "    - 15 m/s\n",
    "    - 20 m/s\n",
    "    - 25 m/s"
   ]
  },
  {
   "cell_type": "markdown",
   "metadata": {},
   "source": [
    "10. Sebuah mobil yang mula-mula diam, kemudian bergerak. Setelah 80 km, kecepatannya berubah menjadi\n",
    "40 km/jam. Waktu yang diperlukan untuk me-\n",
    "nempuh jarak tersebut adalah ....\n",
    "    - 4 jam\n",
    "    - 8 jam\n",
    "    - 12 jam\n",
    "    - 15 jam\n",
    "    - 20 jam"
   ]
  },
  {
   "cell_type": "markdown",
   "metadata": {},
   "source": [
    "11. Dua buah mobil A dan B bergerak saling mendekati\n",
    "dengan kecepatan masing-masing 36 km/jam dan\n",
    "72 km/jam. Jika jarak kedua mobil 900 m, kedua\n",
    "mobil akan berpapasan setelah ....\n",
    "    - 10 sekon\n",
    "    - 20 sekon\n",
    "    - 30 sekon\n",
    "    - 60 sekon\n",
    "    - 90 sekon"
   ]
  },
  {
   "cell_type": "markdown",
   "metadata": {},
   "source": [
    "12. Perhatikan grafik berikut. \\\n",
    " <img src=\"resource/gerak/12a.png\" alt=\"drawing\" width=\"250\"/>\\\n",
    "Dari grafik tersebut, jarak yang ditempuh selama 5 s\n",
    "adalah ....\n",
    "    - 60 m\n",
    "    - 70 m\n",
    "    - 80 m\n",
    "    - 90 m\n",
    "    - 100 m"
   ]
  },
  {
   "cell_type": "markdown",
   "metadata": {},
   "source": [
    "13. Sebuah pesawat terbang memerlukan waktu 20 s\n",
    "dan jarak 400 m untuk lepas landas. Kecepatan\n",
    "pesawat tersebut ketika lepas landas adalah ....\n",
    "    - 10 m/s\n",
    "    - 20 m/s\n",
    "    - 30 m/s\n",
    "    - 40 m/s\n",
    "    - 50 m/s"
   ]
  },
  {
   "cell_type": "markdown",
   "metadata": {},
   "source": [
    "14. Sebuah mobil bergerak dengan kecepatan awal\n",
    "10 m/s dan mengalami perlambatan 2 m/s2. Dalam\n",
    "5 sekon, mobil tersebut menempuh jarak sejauh ....\n",
    "    - 5 m\n",
    "    - 10 m\n",
    "    - 15 m\n",
    "    - 20 m\n",
    "    - 25 m"
   ]
  },
  {
   "cell_type": "markdown",
   "metadata": {},
   "source": [
    "15. Benda bergerak seperti dinyatakan dalam grafik\n",
    "berikut. \\\n",
    "<img src=\"resource/gerak/15a.png\" alt=\"drawing\" width=\"250\"/> \\\n",
    "Jarak yang ditempuh selama 4 sekon adalah ....\n",
    "    - 35 m  \n",
    "    - 50 m\n",
    "    - 60 m\n",
    "    - 70 m\n",
    "    - 80 m"
   ]
  },
  {
   "cell_type": "markdown",
   "metadata": {},
   "source": [
    "16. Waktu yang diperlukan sebuah mobil yang bergerak dengan percepatan 2 m/s<sup>2</sup>, untuk mengubah kecepatannya dari 10 m/s menjadi 30 m/s\n",
    "adalah ....\n",
    "    - 10 s  \n",
    "    - 20 s  \n",
    "    - 30 s\n",
    "    - 40 s\n",
    "    - 50 s"
   ]
  },
  {
   "cell_type": "markdown",
   "metadata": {},
   "source": [
    "17. Dua benda bergerak seperti grafik berikut. \\\n",
    "<img src=\"resource/gerak/17a.png\" alt=\"drawing\" width=\"250\"/> \\\n",
    "Kedua benda tersebut akan bertemu setelah ....\n",
    "    - 5 sekon\n",
    "    - 8 sekon\n",
    "    - 10 sekon\n",
    "    - 12 sekon\n",
    "    - 16 sekon"
   ]
  },
  {
   "cell_type": "markdown",
   "metadata": {},
   "source": [
    "18. Perhatikan grafik berikut.  \\\n",
    "<img src=\"resource/gerak/18a.png\" alt=\"drawing\" width=\"250\"/> \\\n",
    "Dari grafik tersebut, percepatan A dan B adalah ....\n",
    "    - 3 m/s<sup>2</sup> dan 5 m/s<sup>2</sup>\n",
    "    - 3 m/s<sup>2</sup> dan 15 m/s<sup>2</sup>\n",
    "    - 5 m/s<sup>2</sup> dan 3 m/s<sup>2</sup>\n",
    "    - 15 m/s<sup>2</sup> dan 5 m/s<sup>2</sup>\n",
    "    - 5 m/s<sup>2</sup> dan 15 m/s<sup>2</sup>"
   ]
  },
  {
   "cell_type": "markdown",
   "metadata": {},
   "source": [
    "19. Sebuah benda jatuh bebas dari ketinggian 45 m, waktu yang dibutuhkan saat menyentuh tanah adalah ....\n",
    "    - 2 sekon  \n",
    "    - 3 sekon  \n",
    "    - 5 sekon\n",
    "    - 7 sekon\n",
    "    - 9 sekon"
   ]
  },
  {
   "cell_type": "markdown",
   "metadata": {},
   "source": [
    "20. Bola tenis jatuh dari ketinggian 5 m. Kecepatan benda\n",
    "saat menyentuh tanah adalah ... (g = 10 m/s<sup>2</sup>).\n",
    "    - 5 m/s  \n",
    "    - 10 m/s  \n",
    "    - 20 m/s\n",
    "    - 50 m/s\n",
    "    - 100 m/s"
   ]
  },
  {
   "cell_type": "markdown",
   "metadata": {},
   "source": [
    "21. Sebuah benda dilempar ke atas dengan kecepatan\n",
    "awal 20 m/s. Waktu yang dibutuhkan untuk kembali\n",
    "ke tanah adalah ....\n",
    "    - 1 sekon  \n",
    "    - 2 sekon  \n",
    "    - 3 sekon\n",
    "    - 4 sekon\n",
    "    - 5 sekon"
   ]
  },
  {
   "cell_type": "markdown",
   "metadata": {},
   "source": [
    "22. Sebuah benda dilemparkan ke bawah dengan\n",
    "kecepatan awal V<sub>0</sub>. Jarak dari posisi lempar supaya\n",
    "kecepatan benda menjadi 2 kali semula adalah ....\n",
    "\n",
    "    - $\\frac{v_{0}2}{g}$ \n",
    "\n",
    "    - $\\frac{2v_{0}^2}{g}$  \n",
    "\n",
    "    - $\\frac{v_{0}^2}{2g}$  \n",
    "\n",
    "    - $\\frac{3v_{0}^2}{2g}$  \n",
    "\n",
    "    - $\\frac{2v_{0}^2}{3g}$  "
   ]
  },
  {
   "cell_type": "markdown",
   "metadata": {},
   "source": [
    "23. Sebuah batu dilepaskan dari menara dan tiba di\n",
    "tanah dalam waktu 5 sekon. Ketinggian menara\n",
    "adalah ....\n",
    "    - 25 m\n",
    "    - 50 m  \n",
    "    - 75 m\n",
    "    - 100 m\n",
    "    - 125 m"
   ]
  },
  {
   "cell_type": "markdown",
   "metadata": {},
   "source": [
    "24. Terdapat dua buah batu yang akan dilempar. Batu\n",
    "pertama dilemparkan ke atas dari permukaan tanah\n",
    "dengan kecepatan awal 60 m/s. Batu kedua\n",
    "dilemparkan ke bawah dari sebuah gedung dengan\n",
    "kecepatan awal 40 m/s. Jika jarak kedua batu 400 m,\n",
    "kedua batu tersebut akan bertemu setelah bergerak\n",
    "selama ....\n",
    "    - 2 sekon  \n",
    "    - 3 sekon  \n",
    "    - 4 sekon\n",
    "    - 6 sekon\n",
    "    - 10 sekon"
   ]
  },
  {
   "cell_type": "markdown",
   "metadata": {},
   "source": [
    "25. Terdapat dua buah bola yang berjarak 100 m. Bola\n",
    "pertama bergerak jatuh bebas dan pada saat bersamaan bola kedua dilemparkan ke atas dengan\n",
    "kecepatan awal 40 m/s. Jarak kedua bola setelah\n",
    "2 sekon adalah ....\n",
    "    - 10 m\n",
    "    - 20 m\n",
    "    - 40 m\n",
    "    - 60 m\n",
    "    - 80 m\n",
    "<br>"
   ]
  },
  {
   "cell_type": "markdown",
   "metadata": {},
   "source": [
    "## Bagian B"
   ]
  },
  {
   "cell_type": "markdown",
   "metadata": {},
   "source": [
    "1. Sebuah mobil sedang bergerak dengan kecepatan\n",
    "36 km/jam, tentukanlah: \\\n",
    "&nbsp; a. waktu yang diperlukan untuk menempuh jarak 10 km, \\\n",
    "&nbsp; b. jarak yang ditempuh selama 10 menit."
   ]
  },
  {
   "cell_type": "markdown",
   "metadata": {},
   "source": [
    "2. Sebuah benda bergerak sepanjang sumbu-x. Setelah\n",
    "bergerak selama 2 sekon, benda berada pada posisi\n",
    "x<sub>1</sub> = 16 m dan setelah 5 sekon benda berada pada\n",
    "posisi x<sub>2</sub> = 10 m. Tentukanlah jarak, perpindahan,\n",
    "laju, dan kecepatan rata- rata pada waktu tersebut!"
   ]
  },
  {
   "cell_type": "markdown",
   "metadata": {},
   "source": [
    "3. Mobil A bergerak dengan laju 72 km/jam dan\n",
    "berada 200 m di belakang mobil B yang sedang bergerak dengan kelajuan 54 km/jam. Kapan mobil\n",
    "A menyusul mobil B?"
   ]
  },
  {
   "cell_type": "markdown",
   "metadata": {},
   "source": [
    "4. Sebuah benda mula-mula diam, kemudian bergerak.\n",
    "Setelah 10 sekon, kecepatan benda menjadi 15 m/s<sup>2</sup>.\n",
    "Hitung percepatan benda tersebut."
   ]
  },
  {
   "cell_type": "markdown",
   "metadata": {},
   "source": [
    "5. Mobil yang sedang bergerak dengan kecepatan\n",
    "72 km/jam, pada jarak 100 m tiba-tiba mengalami\n",
    "perlambatan 3 m/s<sup>2</sup> karena tepat di depan mobil tersebut\n",
    "ada seorang nenek yang sedang melintas. Apakah\n",
    "mobil tersebut akan menabrak nenek yang sedang\n",
    "melintas di jalan?"
   ]
  },
  {
   "cell_type": "markdown",
   "metadata": {},
   "source": [
    "6. Sebuah kelapa jatuh bebas dari ketinggian 20 m.\n",
    "Berapakah waktu dan kecepatan saat tiba di tanah?"
   ]
  },
  {
   "cell_type": "markdown",
   "metadata": {},
   "source": [
    "7. Dua buah benda terpisah sejauh 100 m dalam arah\n",
    "vertikal. Benda pertama mula-mula di tanah,\n",
    "kemudian ditembakkan dengan kecepatan awal\n",
    "20 m/s ke atas. Pada saat yang bersamaan, benda\n",
    "kedua jatuh bebas. Kapan dan di mana kedua benda\n",
    "berpapasan?"
   ]
  },
  {
   "cell_type": "markdown",
   "metadata": {},
   "source": [
    "8. Sebuah benda dilemparkan ke atas dan mencapai\n",
    "ketinggian maksimum 40 m. Hitunglah: \\\n",
    "&nbsp;a. kecepatan awal benda, \\\n",
    "&nbsp;b. waktu untuk mencapai tinggi maksimum, \\\n",
    "&nbsp;c. kecepatan setelah 3 sekon, dan \\\n",
    "&nbsp;d. ketinggian setelah 3 sekon."
   ]
  },
  {
   "cell_type": "markdown",
   "metadata": {},
   "source": [
    "9. Dari puncak menara setinggi 60 m, sebuah benda\n",
    "dilemparkan ke atas dengan kecepatan 10 m/s.\n",
    "Hitunglah kecepatan dan waktu benda ketika tiba\n",
    "di tanah."
   ]
  },
  {
   "cell_type": "markdown",
   "metadata": {},
   "source": [
    "10. Sebuah benda dilemparkan ke atas dengan\n",
    "kecepatan awal $v_0$ dari permukaan Bumi. Jika benda\n",
    "dibawa ke Bulan dan dilemparkan ke atas dengan\n",
    "kecepatan awal $2v_0$. Tentukanlah perbandingan\n",
    "tinggi maksimum di Bumi dan di Bulan.\n",
    "(Petunjuk: $g_{Bulan} = \\frac{1}{6}g_{Bumi}$"
   ]
  },
  {
   "cell_type": "markdown",
   "metadata": {},
   "source": [
    "---\n",
    "---\n",
    ">**Ilmu Tidaklah diperoleh, melainkan dengan**\n",
    ">\n",
    ">\n",
    ">**SIkap Tawadlu' dan Serius**"
   ]
  }
 ],
 "metadata": {
  "interpreter": {
   "hash": "c77c6f61c6b7b4b96b1f1362d1e492855f50ba30b6c9e892442a8cb8806ea707"
  },
  "kernelspec": {
   "display_name": "Python 3.8.5 64-bit ('base': conda)",
   "name": "python3"
  },
  "language_info": {
   "name": "python",
   "version": "3.8.5"
  },
  "orig_nbformat": 4
 },
 "nbformat": 4,
 "nbformat_minor": 2
}
